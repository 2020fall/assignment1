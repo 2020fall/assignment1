{
  "nbformat": 4,
  "nbformat_minor": 0,
  "metadata": {
    "colab": {
      "name": "task2-mlp_numpy.ipynb",
      "provenance": []
    },
    "kernelspec": {
      "display_name": "Python 3",
      "language": "python",
      "name": "python3"
    },
    "language_info": {
      "codemirror_mode": {
        "name": "ipython",
        "version": 3
      },
      "file_extension": ".py",
      "mimetype": "text/x-python",
      "name": "python",
      "nbconvert_exporter": "python",
      "pygments_lexer": "ipython3",
      "version": "3.7.7"
    }
  },
  "cells": [
    {
      "cell_type": "markdown",
      "metadata": {
        "id": "hN5M5Gs-c-wQ"
      },
      "source": [
        "## Columbia University\n",
        "### ECBM E4040 Neural Networks and Deep Learning. Fall 2020."
      ]
    },
    {
      "cell_type": "markdown",
      "metadata": {
        "id": "Qe6yTh55trpQ"
      },
      "source": [
        "# Assignment 1, Task 2: Multilayer Perceptron (MLP)\n",
        "This is the second part of the assignment. You will get to know how to build basic fully connected neural network."
      ]
    },
    {
      "cell_type": "code",
      "metadata": {
        "id": "7Vs2WYIFtrpS",
        "tags": []
      },
      "source": [
        "# Import modules\n",
        "from __future__ import print_function\n",
        "import tensorflow as tf\n",
        "import numpy as np\n",
        "import time\n",
        "import os\n",
        "import matplotlib.pyplot as plt\n",
        "import pickle\n",
        "\n",
        "from utils.cifar_utils import load_data\n",
        "\n",
        "# Plot configurations\n",
        "%matplotlib inline\n",
        "\n",
        "# Notebook auto reloads code. (Ref: http://stackoverflow.com/questions/1907993/autoreload-of-modules-in-ipython)\n",
        "%load_ext autoreload\n",
        "%autoreload 2"
      ],
      "execution_count": null,
      "outputs": []
    },
    {
      "cell_type": "markdown",
      "metadata": {
        "id": "3gYnTjputrpV"
      },
      "source": [
        "## Load Data"
      ]
    },
    {
      "cell_type": "code",
      "metadata": {
        "id": "I31uJ6KltrpW",
        "tags": []
      },
      "source": [
        "# Load the raw CIFAR-10 data.\n",
        "X_train, y_train, X_test, y_test = load_data()\n",
        "\n",
        "# Data organizations:\n",
        "# Train data: 49000 samples from original train set: 1~49,000\n",
        "# Validation data: 1000 samples from original train set: 49,000~50,000\n",
        "# Test data: 10000 samples from original test set: 1~10,000\n",
        "# Development data (for gradient check): 100 from the train set: 1~49,000\n",
        "num_training = 49000\n",
        "num_validation = 1000\n",
        "num_dev = 100\n",
        "\n",
        "X_val = X_train[-num_validation:, :]\n",
        "y_val = y_train[-num_validation:]\n",
        "\n",
        "mask = np.random.choice(num_training, num_dev, replace=False)\n",
        "X_dev = X_train[mask]\n",
        "y_dev = y_train[mask]\n",
        "\n",
        "X_train = X_train[:num_training, :]\n",
        "y_train = y_train[:num_training]\n",
        "\n",
        "# Preprocessing: subtract the mean value across every dimension for training data\n",
        "mean_image = np.mean(X_train, axis=0)\n",
        "\n",
        "X_train = X_train.astype(np.float32) - mean_image.astype(np.float32)\n",
        "X_val = X_val.astype(np.float32) - mean_image\n",
        "X_test = X_test.astype(np.float32) - mean_image\n",
        "X_dev = X_dev.astype(np.float32) - mean_image\n",
        "\n",
        "print(X_train.shape, X_val.shape, X_test.shape, X_dev.shape)\n",
        "print('Train data shape: ', X_train.shape)\n",
        "print('Train labels shape: ', y_train.shape)\n",
        "print('Validation data shape: ', X_val.shape)\n",
        "print('Validation labels shape: ', y_val.shape)\n",
        "print('Test data shape: ', X_test.shape)\n",
        "print('Test labels shape: ', y_test.shape)\n",
        "print('Development data shape:', X_dev.shape)\n",
        "print('Development data shape', y_dev.shape)"
      ],
      "execution_count": null,
      "outputs": []
    },
    {
      "cell_type": "markdown",
      "metadata": {
        "id": "pLhMsud9trpa"
      },
      "source": [
        "## Part 1: Basic layers\n",
        "In this part, all the functions will be created from scratch using numpy for better understanding. (In the next task, you will be introduced to built in layers from tensorflow.)\n",
        "\n",
        "### Create basic layer functions\n",
        "\n",
        "<span style=\"color:red\"><strong>TODO</strong></span>: Complete functions **affine_forward**, **affine_backward** in **./utils/layer_funcs.py**."
      ]
    },
    {
      "cell_type": "markdown",
      "metadata": {
        "id": "YOW4Puw8c-wY"
      },
      "source": [
        "<span style=\"color:red\"><strong>NOTE</strong></span>: Please do not change the code in the cell below, The cell below will run correctly if your code is right."
      ]
    },
    {
      "cell_type": "code",
      "metadata": {
        "id": "2AfAMrOZtrpb",
        "tags": []
      },
      "source": [
        "# THE FOLLOWING CODE IS JUST FOR CHECKING.     #\n",
        "# NO NEED TO CHANGE IT.                        #\n",
        "\n",
        "from utils.layer_funcs import affine_forward\n",
        "from utils.layer_funcs import affine_backward\n",
        "\n",
        "# generate data for checking\n",
        "x = X_dev\n",
        "w = np.random.rand(x.shape[1],100)\n",
        "b = np.random.rand(100)\n",
        "dout = np.ones((x.shape[0],100))\n",
        "\n",
        "## Affine function -- H = W*X + b\n",
        "out = affine_forward(x, w, b)\n",
        "dx, dw, db = affine_backward(dout, x, w, b)\n",
        "\n",
        "## check by tfe.gradients_function()\n",
        "x_tf = tf.Variable(x, name='x')\n",
        "w_tf = tf.Variable(w, name='w')\n",
        "b_tf = tf.Variable(b, name='b')\n",
        "\n",
        "def affine_layer(x, w, b):\n",
        "    return tf.matmul(x, w) + b\n",
        "\n",
        "with tf.GradientTape() as tape:\n",
        "    tape.watch(w_tf)\n",
        "    out_tf = affine_layer(x_tf, w_tf, b_tf)\n",
        "    dx_tf, dw_tf, db_tf = tape.gradient(out_tf, (x_tf, w_tf, b_tf))\n",
        "\n",
        "out_check = out_tf.numpy()\n",
        "dx_check, dw_check, db_check = dx_tf.numpy(), dw_tf.numpy(), db_tf.numpy()\n",
        "\n",
        "## Print validation result\n",
        "print(\"Is out correct? {}\".format(np.allclose(out, out_check)))\n",
        "print(\"Is dx correct? {}\".format(np.allclose(dx, dx_check)))\n",
        "print(\"Is dw correct? {}\".format(np.allclose(dw, dw_check)))\n",
        "print(\"Is db correct? {}\".format(np.allclose(db, db_check)))"
      ],
      "execution_count": null,
      "outputs": []
    },
    {
      "cell_type": "markdown",
      "metadata": {
        "id": "LL0DqZ_ftrpd"
      },
      "source": [
        "<span style=\"color:red\"><strong>TODO</strong></span>: Complete functions **relu_forward**, **relu_backward** in **./utils/layer_funcs.py**."
      ]
    },
    {
      "cell_type": "markdown",
      "metadata": {
        "id": "Icdgck1hc-wb"
      },
      "source": [
        "<span style=\"color:red\"><strong>NOTE</strong></span>: Please do not change the code in the cell below, The cell below will run correctly if your code is right."
      ]
    },
    {
      "cell_type": "code",
      "metadata": {
        "id": "nYDT8Idatrpe",
        "tags": []
      },
      "source": [
        "# THE FOLLOWING CODE IS JUST FOR CHECKING.     #\n",
        "# NO NEED TO CHANGE IT.                        #\n",
        "\n",
        "from utils.layer_funcs import relu_forward\n",
        "from utils.layer_funcs import relu_backward\n",
        "\n",
        "## Activation layers -- Here we introduce ReLU activation function\n",
        "## since it is the most commonly used in computer vision problems.\n",
        "## However, you can also try to implement \n",
        "## other activation functions like sigmoid, tanh etc.\n",
        "x = X_dev\n",
        "dout = np.ones(x.shape)\n",
        "## ReLU\n",
        "out = relu_forward(x)\n",
        "dx = relu_backward(dout, x)\n",
        "\n",
        "## check by tf.GradientTape.gradients()\n",
        "x_tf = tf.Variable(x, name='x')\n",
        "with tf.GradientTape() as tape:\n",
        "    tape.watch(x_tf)\n",
        "    out_tf = tf.nn.relu(x_tf)\n",
        "    grad_gt = tape.gradient(out_tf, x_tf)\n",
        "\n",
        "out_check = out_tf.numpy()\n",
        "dx_check = grad_gt.numpy()\n",
        "## Print validation result\n",
        "print(\"Is out correct? {}\".format(np.allclose(out, out_check)))\n",
        "print(\"Is dx correct? {}\".format(np.allclose(dx, dx_check)))"
      ],
      "execution_count": null,
      "outputs": []
    },
    {
      "cell_type": "markdown",
      "metadata": {
        "id": "LrSXJOdktrph"
      },
      "source": [
        "<span style=\"color:red\"><strong>TODO</strong></span>: Complete functions **softmax_loss** in **./utils/layer_funcs.py**"
      ]
    },
    {
      "cell_type": "markdown",
      "metadata": {
        "id": "_VkdzxSgc-we"
      },
      "source": [
        "<span style=\"color:red\"><strong>NOTE</strong></span>: Please do not change the code in the cell below, The cell below will run correctly if your code is right."
      ]
    },
    {
      "cell_type": "code",
      "metadata": {
        "id": "rG2_zSsjtrpi",
        "tags": []
      },
      "source": [
        "# THE FOLLOWING CODE IS JUST FOR CHECKING.     #\n",
        "# NO NEED TO CHANGE IT.                        #\n",
        "\n",
        "from utils.layer_funcs import softmax_loss\n",
        "\n",
        "## generate some random data for testing\n",
        "x = np.random.rand(100,10)\n",
        "y = np.argmax(x, axis=1)\n",
        "\n",
        "loss, dx = softmax_loss(x, y)\n",
        "\n",
        "## check by tf.GradientTape.gradients()\n",
        "\n",
        "x_tf = tf.Variable(x, name='x')\n",
        "y_tf = tf.Variable(y, name='y')\n",
        "\n",
        "with tf.GradientTape() as tape:\n",
        "    tape.watch(x_tf)\n",
        "    cross_entropy = tf.nn.softmax_cross_entropy_with_logits(logits= x_tf, labels=tf.one_hot(y_tf,10))\n",
        "    loss_tf = tf.reduce_mean(cross_entropy)\n",
        "    dx_tf = tape.gradient(loss_tf, x_tf)\n",
        "\n",
        "loss_check = loss_tf.numpy()\n",
        "dx_check = dx_tf.numpy()\n",
        "## Print validation result\n",
        "print(\"Is loss correct? {}\".format(np.allclose(loss, loss_check)))\n",
        "print(\"Is dx correct? {}\".format(np.allclose(dx, dx_check)))"
      ],
      "execution_count": null,
      "outputs": []
    },
    {
      "cell_type": "markdown",
      "metadata": {
        "id": "iC_Q820Ltrpk"
      },
      "source": [
        "### Create a single layer\n",
        "\n",
        "Now try to combine an affine function and a nonlinear activation function into a single fully-connected layer. Edit the code in ./utils/layer_utils.py\n",
        "\n",
        "$$\\mathbf{O} = activation(\\mathbf{W} \\times \\mathbf{X} + \\mathbf{b})$$\n",
        "\n",
        "For this assignment, you need to create two types of layers as below. You can get started with the skeleton code in ./utils/layer_utils.py. The basic class structure has been provided, and you need to fill in the \"TODO\" part(s). \n",
        "\n",
        "* DenseLayer -- Affine transform >> ReLU\n",
        "```\n",
        "Class DenseLayer:\n",
        "    Variables: weights, bias \n",
        "    Functions: \n",
        "        __init__: given (input_dim, output_dim, weight_scale)\n",
        "        feedforward: TODO\n",
        "        backforward: TODO      \n",
        "```    \n",
        "* AffineLayer -- Affine transform and the class structure is similar to DenseLayer"
      ]
    },
    {
      "cell_type": "markdown",
      "metadata": {
        "id": "PhIgKu9ptrpl"
      },
      "source": [
        "<span style=\"color:red\"><strong>TODO</strong></span>: Complete function **AffineLayer** in **./utils/layer_utils.py**"
      ]
    },
    {
      "cell_type": "markdown",
      "metadata": {
        "id": "-gHjPKrYc-wi"
      },
      "source": [
        "<span style=\"color:red\"><strong>NOTE</strong></span>: Please do not change the code in the cell below, The cell below will run correctly if your code is right."
      ]
    },
    {
      "cell_type": "code",
      "metadata": {
        "id": "Se8aWo7Ktrpm",
        "tags": []
      },
      "source": [
        "# THE FOLLOWING CODE IS JUST FOR CHECKING.     #\n",
        "# NO NEED TO CHANGE IT.                        #\n",
        "\n",
        "from utils.layer_utils import AffineLayer\n",
        "\n",
        "## Affine\n",
        "test_affine = AffineLayer(input_dim=3072,output_dim=100)\n",
        "w, b = test_affine.params\n",
        "\n",
        "## Data for correctness check\n",
        "x = X_dev\n",
        "dout = np.ones((x.shape[0], 100))\n",
        "\n",
        "out = test_affine.feedforward(x)\n",
        "dx = test_affine.backward(dout)\n",
        "dw, db = test_affine.gradients\n",
        "\n",
        "## check by tf.GradientTape.gradients()\n",
        "x_tf = tf.Variable(x, name='x')\n",
        "w_tf = tf.Variable(w, name='w')\n",
        "b_tf = tf.Variable(b, name='b')\n",
        "\n",
        "def affine_layer(x, w, b):\n",
        "    return tf.matmul(x, w) + b\n",
        "\n",
        "with tf.GradientTape() as tape:\n",
        "    tape.watch(w_tf)\n",
        "    out_tf = affine_layer(x_tf, w_tf, b_tf)\n",
        "    dx_tf, dw_tf, db_tf = tape.gradient(out_tf, (x_tf, w_tf, b_tf))\n",
        "    \n",
        "out_check = out_tf.numpy()\n",
        "dx_check = dx_tf.numpy()\n",
        "dw_check = dw_tf.numpy()\n",
        "db_check = db_tf.numpy()\n",
        "\n",
        "## Print validation result\n",
        "print(\"Is out correct? {}\".format(np.allclose(out, out_check)))\n",
        "print(\"Is dx correct? {}\".format(np.allclose(dx, dx_check)))\n",
        "print(\"Is dw correct? {}\".format(np.allclose(dw, dw_check)))\n",
        "print(\"Is db correct? {}\".format(np.allclose(db, db_check)))"
      ],
      "execution_count": null,
      "outputs": []
    },
    {
      "cell_type": "markdown",
      "metadata": {
        "id": "L2MhDHIJtrpo"
      },
      "source": [
        "<span style=\"color:red\"><strong>TODO</strong></span>: Complete function **DenseLayer** in **./utils/layer_utils.py**"
      ]
    },
    {
      "cell_type": "markdown",
      "metadata": {
        "id": "kxvxpZ43c-wl"
      },
      "source": [
        "<span style=\"color:red\"><strong>NOTE</strong></span>: Please do not change the code in the cell below, The cell below will run correctly if your code is right."
      ]
    },
    {
      "cell_type": "code",
      "metadata": {
        "id": "G8MgO2Gztrpq",
        "tags": []
      },
      "source": [
        "# THE FOLLOWING CODE IS JUST FOR CHECKING.     #\n",
        "# NO NEED TO CHANGE IT.                        #\n",
        "\n",
        "## First, let's make a dense layer\n",
        "from utils.layer_utils import DenseLayer\n",
        "\n",
        "## Affine + ReLU\n",
        "test_dense = DenseLayer(input_dim=3072,output_dim=100)\n",
        "w, b = test_dense.params\n",
        "\n",
        "## Data for correctness check\n",
        "x = X_dev\n",
        "dout = np.ones((x.shape[0], 100))\n",
        "\n",
        "out = test_dense.feedforward(x)\n",
        "dx = test_dense.backward(dout)\n",
        "dw, db = test_dense.gradients\n",
        "\n",
        "## check by tf.GradientTape.gradients()\n",
        "x_tf = tf.Variable(x, name='x')\n",
        "w_tf = tf.Variable(w, name='w')\n",
        "b_tf = tf.Variable(b, name='b')\n",
        "\n",
        "def dense_layer(x, w, b):\n",
        "    return tf.nn.relu(tf.matmul(x, w) + b)\n",
        "\n",
        "with tf.GradientTape() as tape:\n",
        "    tape.watch(w_tf)\n",
        "    out_tf = dense_layer(x_tf, w_tf, b_tf)\n",
        "    dx_tf, dw_tf, db_tf = tape.gradient(out_tf, (x_tf, w_tf, b_tf))\n",
        "    \n",
        "out_check = out_tf.numpy()\n",
        "dx_check = dx_tf.numpy()\n",
        "dw_check = dw_tf.numpy()\n",
        "db_check = db_tf.numpy()\n",
        "\n",
        "## Print validation result\n",
        "print(\"Is out correct? {}\".format(np.allclose(out, out_check)))\n",
        "print(\"Is dx correct? {}\".format(np.allclose(dx, dx_check)))\n",
        "print(\"Is dw correct? {}\".format(np.allclose(dw, dw_check)))\n",
        "print(\"Is db correct? {}\".format(np.allclose(db, db_check)))"
      ],
      "execution_count": null,
      "outputs": []
    },
    {
      "cell_type": "markdown",
      "metadata": {
        "id": "Y9cJLCPstrpt"
      },
      "source": [
        "## Part 2: Two Layer Network\n",
        "\n",
        "Complete the class **TwoLayerNet** in **./utils/classifiers/twolayernet.py**. Through this experiment, you will create a two-layer neural network and learn about the backpropagation mechanism. The network structure is like **input >> DenseLayer >> AffineLayer >> softmax loss >> output**. Complete \"TODO\" part(s).\n",
        "```\n",
        "Class TwoLayerNet:   \n",
        "    Functions: \n",
        "        __init__: GIVEN\n",
        "        loss: TODO - calculate cross entropy loss and gradients wst all weights and bias.\n",
        "        step: TODO - a single update all weights and bias by SGD.\n",
        "        predict: TODO - output result(classification accuracy) based on input data\n",
        "    \n",
        "    Variables:\n",
        "        layers\n",
        "```"
      ]
    },
    {
      "cell_type": "markdown",
      "metadata": {
        "id": "JBFtQx5Utrpu"
      },
      "source": [
        "<span style=\"color:red\"><strong>TODO</strong></span>: Complete class **TwoLayerNet** in **./utils/classifiers/twolayernet.py**"
      ]
    },
    {
      "cell_type": "markdown",
      "metadata": {
        "id": "0icnqCqtc-wo"
      },
      "source": [
        "<span style=\"color:red\"><strong>NOTE</strong></span>: Please do not change the code in the cell below, The cell below will run correctly if your code is right."
      ]
    },
    {
      "cell_type": "code",
      "metadata": {
        "id": "1QlpmRrEtrpv",
        "tags": []
      },
      "source": [
        "# THE FOLLOWING CODE IS JUST FOR CHECKING.     #\n",
        "# NO NEED TO CHANGE IT.                        #\n",
        "\n",
        "from utils.classifiers.twolayernet import TwoLayerNet\n",
        "\n",
        "## Define a model\n",
        "model = TwoLayerNet(input_dim=3072, hidden_dim=100, num_classes=10, reg=1e-4)\n",
        "W1, b1 = model.layer1.params\n",
        "W2, b2 = model.layer2.params\n",
        "## Backprogation -- Finish loss function and gradients calculation in TwoLayerNet\n",
        "loss = model.loss(X_dev, y_dev)\n",
        "\n",
        "## Check loss by tensorflow\n",
        "x_tf = tf.Variable(X_dev, dtype = tf.float32)\n",
        "y_tf = tf.Variable(y_dev, dtype = tf.uint8)\n",
        "\n",
        "W1_tf = tf.Variable(W1.astype('float32'))\n",
        "b1_tf = tf.Variable(b1.astype('float32'))\n",
        "W2_tf = tf.Variable(W2.astype('float32'))\n",
        "b2_tf = tf.Variable(b2.astype('float32'))\n",
        "h1_tf = tf.nn.relu(tf.matmul(x_tf, W1_tf) + b1_tf)\n",
        "h2_tf = tf.matmul(h1_tf, W2_tf) + b2_tf\n",
        "cross_entropy = tf.nn.softmax_cross_entropy_with_logits(logits= h2_tf, labels=tf.one_hot(y_tf,10))\n",
        "L2_loss = tf.nn.l2_loss(W1_tf) + tf.nn.l2_loss(W2_tf)\n",
        "loss_tf = tf.reduce_mean(cross_entropy) + 1e-4 * L2_loss \n",
        "\n",
        "loss_check=loss_tf.numpy()\n",
        "    \n",
        "## Print validation result\n",
        "print(\"Is loss correct? {}\".format(np.allclose(loss, loss_check)))"
      ],
      "execution_count": null,
      "outputs": []
    },
    {
      "cell_type": "markdown",
      "metadata": {
        "id": "4WjSapZXtrpy"
      },
      "source": [
        "### Train a two-layer network"
      ]
    },
    {
      "cell_type": "markdown",
      "metadata": {
        "id": "HnEd1Z9Wtrpz"
      },
      "source": [
        "#### Import functions for training and testing"
      ]
    },
    {
      "cell_type": "code",
      "metadata": {
        "id": "et5ZTXBktrpz"
      },
      "source": [
        "from utils.train_funcs import train, test"
      ],
      "execution_count": null,
      "outputs": []
    },
    {
      "cell_type": "markdown",
      "metadata": {
        "id": "n2Nbd9iotrp2"
      },
      "source": [
        "#### Start training\n",
        "We have provide you the **train( )** function in **./utils/train_func.py**"
      ]
    },
    {
      "cell_type": "code",
      "metadata": {
        "id": "eOIqjSUCtrp2",
        "scrolled": true,
        "tags": []
      },
      "source": [
        "# THE FOLLOWING CODE IS JUST FOR CHECKING.     #\n",
        "# NO NEED TO CHANGE IT.                        #\n",
        "\n",
        "from utils.classifiers.twolayernet import TwoLayerNet\n",
        "\n",
        "model = TwoLayerNet(input_dim=3072, hidden_dim=100, num_classes=10, reg=1e-4, weight_scale=1e-3)\n",
        "\n",
        "num_epoch = 10\n",
        "batch_size = 500\n",
        "lr = 5e-4\n",
        "verbose = True\n",
        "train_acc_hist, val_acc_hist = train(model, X_train, y_train, X_val, y_val, \n",
        "                  num_epoch=num_epoch, batch_size=batch_size, learning_rate=lr, verbose=verbose)\n",
        "test(model, X_test, y_test)"
      ],
      "execution_count": null,
      "outputs": []
    },
    {
      "cell_type": "markdown",
      "metadata": {
        "id": "ID-4_nLqtrp5"
      },
      "source": [
        "<p style='color:red'><strong>TODO: Plot training and validation accuracy history of each epoch</strong></p>"
      ]
    },
    {
      "cell_type": "markdown",
      "metadata": {
        "id": "Zpsag6IWc-wv"
      },
      "source": [
        "<p style='color:red'><strong>SOLUTION (enter a new cell below):</strong></p>"
      ]
    },
    {
      "cell_type": "code",
      "metadata": {
        "id": "UI3DYKAZdhpJ"
      },
      "source": [
        "## TODO: plot the accuracy history\n",
        "#train_acc_hist, val_acc_hist\n",
        "plt.plot(train_acc_hist, label='Training')\n",
        "plt.plot(val_acc_hist, label='Validation')\n",
        "plt.xlabel('Epoch number')\n",
        "plt.ylabel('Accuracy')\n",
        "plt.legend()\n",
        "plt.show()"
      ],
      "execution_count": null,
      "outputs": []
    },
    {
      "cell_type": "markdown",
      "metadata": {
        "id": "42xHlu5utrp9"
      },
      "source": [
        "#### Visulize the weight variable in the first layer.\n",
        "\n",
        "Visualization of the intermediate weights can help you get an intuitive understanding of how the network works, especially in  Convolutional Neural Networks (CNNs)."
      ]
    },
    {
      "cell_type": "code",
      "metadata": {
        "id": "gFr5Kvrmtrp9"
      },
      "source": [
        "from utils.display_funcs import visualize_pics"
      ],
      "execution_count": null,
      "outputs": []
    },
    {
      "cell_type": "code",
      "metadata": {
        "id": "OrusGTkltrqA",
        "tags": []
      },
      "source": [
        "weights = model.layer1.params[0]\n",
        "pics = weights.reshape(3, 32, 32, -1).transpose(3, 1, 2, 0)\n",
        "## visualization\n",
        "visualize_pics(pics)"
      ],
      "execution_count": null,
      "outputs": []
    },
    {
      "cell_type": "markdown",
      "metadata": {
        "id": "2s4-QzTHtrqD"
      },
      "source": [
        "### Get test accuracy greater than 50%\n",
        "\n",
        "For this part, you need to train a better two-layer net. The requirement is to get test accuracy better than 50%. If your accuracy is lower, for each 1% lower than 50%, you will lose 5 points.\n",
        "\n",
        "Here are some recommended methods for improving the performance. Feel free to try any other method as you see fit.\n",
        "\n",
        "1. Hyperparameter tuning: reg, hidden_dim, lr, learning_decay, num_epoch, batch_size, weight_scale.\n",
        "2. Adjust training strategy: Randomly select a batch of samples rather than selecting them orderly. \n",
        "3. Try new optimization methods: Now we are using SGD, you can try SGD with momentum, adam, etc.\n",
        "4. Early-stopping.\n",
        "5. Good (better) initial values for weights in the model.\n",
        "\n",
        "A comparison between SGD and SGD with momentum.\n",
        "\n",
        "* Stochastic gradient descent - SGD\n",
        "    ```\n",
        "    w = w - learning_rate * gradient \n",
        "    ```\n",
        "* SGD with momentum\n",
        "    ```\n",
        "    v = momentum*v + learning_rate * gradient\n",
        "    w = w - v\n",
        "    ```"
      ]
    },
    {
      "cell_type": "markdown",
      "metadata": {
        "id": "XK0pOcTLtrqE"
      },
      "source": [
        "<p style='color:red'><strong>TODO</strong></p>"
      ]
    },
    {
      "cell_type": "code",
      "metadata": {
        "id": "PfTHBopktrqE"
      },
      "source": [
        "from utils.classifiers.twolayernet import TwoLayerNet\n",
        "# Use previous layers to create a two layer neural network.\n",
        "# Try several solutions and report the best performing one.\n",
        "# input->(affine->activation)->(affine->softmax)->output\n",
        "# The recommended activation function is ReLU. You can \n",
        "# make a comparison with other activation functions to see\n",
        "# the differences.\n",
        "#\n",
        "# You will need to execute code similar to below, using your parameter specs:\n",
        "#    model = TwoLayerNet(input_dim=TBD, hidden_dim=TBD, num_classes=TBD, reg=TBD, weight_scale=TBD)\n",
        "#    num_epoch = TBD\n",
        "#    batch_size = TBD\n",
        "#    lr = TBD\n",
        "#    verbose = TBD\n",
        "#    train_acc_hist, val_acc_hist = train(TBD)\n",
        "#    test(TBD, TBD, TBD)\n",
        "model = TwoLayerNet(input_dim=3072, hidden_dim=100, num_classes=10, reg=1e-4, weight_scale=1e-3)\n",
        "\n",
        "num_epoch = 20\n",
        "batch_size = 200\n",
        "lr = 5e-4\n",
        "verbose = True\n",
        "train_acc_hist, val_acc_hist = train(model, X_train, y_train, X_val, y_val, \n",
        "                  num_epoch=num_epoch, batch_size=batch_size, learning_rate=lr, verbose=verbose)\n",
        "test(model, X_test, y_test)"
      ],
      "execution_count": null,
      "outputs": []
    },
    {
      "cell_type": "markdown",
      "metadata": {
        "id": "0Mtc783Xc-w3"
      },
      "source": [
        "<p style='color:red'><strong>SOLUTION (enter a new cell below):</strong></p>"
      ]
    },
    {
      "cell_type": "markdown",
      "metadata": {
        "id": "qI9Zc9cItrqJ"
      },
      "source": [
        "<p style='color:red'><strong>TODO</strong></p>"
      ]
    },
    {
      "cell_type": "code",
      "metadata": {
        "id": "PrHVKJDkc-w4"
      },
      "source": [
        "## plot training and validation accuracy of your best model"
      ],
      "execution_count": null,
      "outputs": []
    },
    {
      "cell_type": "markdown",
      "metadata": {
        "id": "ErOZ9yPgc-w6"
      },
      "source": [
        "<p style='color:red'><strong>SOLUTION (enter a new cell below):</strong></p>"
      ]
    },
    {
      "cell_type": "code",
      "metadata": {
        "id": "z1QkXWIhd5vt"
      },
      "source": [
        "plt.plot(train_acc_hist, label='Training')\n",
        "plt.plot(val_acc_hist, label='Validation')\n",
        "plt.xlabel('Epoch number')\n",
        "plt.ylabel('Accuracy')\n",
        "plt.legend()\n",
        "plt.show()"
      ],
      "execution_count": null,
      "outputs": []
    },
    {
      "cell_type": "code",
      "metadata": {
        "id": "Bj93ENdHc-w6"
      },
      "source": [
        "##  Visualize weights of the first layer"
      ],
      "execution_count": 1,
      "outputs": []
    },
    {
      "cell_type": "markdown",
      "metadata": {
        "id": "E71Y3lFBc-w9"
      },
      "source": [
        "<p style='color:red'><strong>SOLUTION (enter a new cell below):</strong></p>"
      ]
    },
    {
      "cell_type": "code",
      "metadata": {
        "id": "4CPOjPtXd7vq"
      },
      "source": [
        "## TODO: Visualize weights\n",
        "weights = model.layer1.params[0]\n",
        "pics = weights.reshape(3, 32, 32, -1).transpose(3, 1, 2, 0)\n",
        "## visualization\n",
        "visualize_pics(pics)"
      ],
      "execution_count": null,
      "outputs": []
    },
    {
      "cell_type": "markdown",
      "metadata": {
        "id": "C7SAy1J1trqP"
      },
      "source": [
        "### Save your best model in a dictionary "
      ]
    },
    {
      "cell_type": "code",
      "metadata": {
        "id": "B9iMeOm1trqQ"
      },
      "source": [
        "## Create \"save_model\" folder if it does not exist\n",
        "save_dir = \"./save_models/\"\n",
        "if not os.path.exists(save_dir):\n",
        "    os.makedirs(save_dir)\n",
        "\n",
        "## Save your model\n",
        "save_params = model.save_model()\n",
        "with open(\"./save_models/best_model.pkl\", \"wb\") as output_file:\n",
        "    pickle.dump(save_params, output_file)"
      ],
      "execution_count": null,
      "outputs": []
    },
    {
      "cell_type": "code",
      "metadata": {
        "id": "2XzKlA_1trqT"
      },
      "source": [
        "## Load your model - FYI\n",
        "#with open(\"./save_models/best_model.pkl\", \"rb\") as input_file:\n",
        "#    load_params = pickle.load(input_file)\n",
        "    \n",
        "#model.update_model(load_params)"
      ],
      "execution_count": null,
      "outputs": []
    },
    {
      "cell_type": "markdown",
      "metadata": {
        "id": "W6DUwt8OtrqV"
      },
      "source": [
        "## Part 3: Multilayer Network\n",
        "\n",
        "Complete the class **MLP** in **./utils/classifiers/network.py**. It should allow arbitrary settings for the number of hidden layers as well as the number of hidden neurons in each layer. **MLP** has a similar structure as a **TwoLayerNet** network.\n",
        "\n",
        "```\n",
        "class MLP:\n",
        "    functions: __init__, loss, step, predict, check_accuracy\n",
        "    variables: layers\n",
        "```"
      ]
    },
    {
      "cell_type": "markdown",
      "metadata": {
        "id": "Oh3echXqc-xD"
      },
      "source": [
        "<span style=\"color:red\"><strong>TODO</strong></span>: Complete the class **MLP** in **./utils/classifiers/mlp.py**"
      ]
    },
    {
      "cell_type": "markdown",
      "metadata": {
        "id": "AI-vMziJc-xE"
      },
      "source": [
        "<span style=\"color:red\"><strong>NOTE</strong></span>: Please do not change the code in the cell below, The cell below will run correctly if your code is right."
      ]
    },
    {
      "cell_type": "code",
      "metadata": {
        "id": "1C7yH-HBtrqW",
        "tags": []
      },
      "source": [
        "# THE FOLLOWING CODE IS JUST FOR CHECKING.     #\n",
        "# NO NEED TO CHANGE IT.                        #\n",
        "\n",
        "from utils.classifiers.mlp import MLP\n",
        "\n",
        "## Use a sequence of layers to create a multiple layer neural network\n",
        "## input->(affine->activation)-> ... ->(affine->activation)->(affine->softmax)->output\n",
        "model = MLP(input_dim=3072, hidden_dims=[100, 100], num_classes=10, reg=0.1, weight_scale=1e-3)\n",
        "\n",
        "num_epoch = 10\n",
        "batch_size = 500\n",
        "lr = 1e-2\n",
        "verbose = False\n",
        "train_acc_hist, val_acc_hist = train(model, X_train, y_train, X_val, y_val, \n",
        "                  num_epoch=num_epoch, batch_size=batch_size, learning_rate=lr, verbose=verbose)\n",
        "test(model, X_test, y_test)"
      ],
      "execution_count": null,
      "outputs": []
    },
    {
      "cell_type": "markdown",
      "metadata": {
        "id": "krIw16Ybc-xG"
      },
      "source": [
        "<p style='color:red'><strong>TODO:</strong></p>"
      ]
    },
    {
      "cell_type": "code",
      "metadata": {
        "id": "TarzyEQ6c-xH"
      },
      "source": [
        "# plot training and validation accuracy"
      ],
      "execution_count": null,
      "outputs": []
    },
    {
      "cell_type": "markdown",
      "metadata": {
        "id": "WHAeD_d5c-xJ"
      },
      "source": [
        "<p style='color:red'><strong>SOLUTION (enter a new cell below):</strong></p>"
      ]
    }
  ]
}